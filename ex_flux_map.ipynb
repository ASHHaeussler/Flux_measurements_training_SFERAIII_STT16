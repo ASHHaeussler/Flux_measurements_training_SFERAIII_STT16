{
 "cells": [
  {
   "cell_type": "markdown",
   "id": "21b33db5",
   "metadata": {},
   "source": [
    "# Flux measurements training SFERA-III STT16\n",
    "Anita Haeussler, PROMES Laboratory\n",
    "\n",
    "![](https://user-images.githubusercontent.com/102672251/273207866-dcb95a2f-e0ce-4be5-98be-cffc38b9d398.png)\n",
    "![promes_haute_resolution](https://user-images.githubusercontent.com/102672251/273208814-195fb560-b728-41a4-9fca-87c122d2ae3e.jpg)\n",
    "![cnrs](https://user-images.githubusercontent.com/102672251/273209781-d2635dca-5fa4-4ec4-be24-85547c09adbb.png)"
   ]
  },
  {
   "cell_type": "markdown",
   "id": "0ec3e443-049a-4898-b7a6-96d238df6c3d",
   "metadata": {},
   "source": [
    "# Before starting\n",
    "All the data required to run this code can be dowloaded from this link :\n",
    "https://mycore.core-cloud.net/index.php/s/1YQjkBQPqHzgf2E\n",
    "\n",
    "And add the path of this folder in variable `FOLDER_PATH` in  `general_functions.ipynb` (part Constances)"
   ]
  },
  {
   "cell_type": "markdown",
   "id": "e7d205d9-5cf1-4390-a73b-635daad32c7c",
   "metadata": {},
   "source": [
    "# Principle\n",
    "The following code details the different steps to obtain a solar flux distribution map. Those one are summarized below.\n",
    "\n",
    "\n",
    "![schema_general_fluxmetry](https://user-images.githubusercontent.com/102672251/273208637-9a31af6a-92b1-420c-85f3-0ea8279b7493.png)\n",
    "\n",
    "In order to produce a solar flux distribution map for the small solar facilities at the PROMES laboratory, we used the device shown below. A crane (non-represented here) allows to deplace the target in different planes.\n",
    "![](https://user-images.githubusercontent.com/102672251/273208151-f3748043-5a34-4835-b40a-8af5768b10a9.png)\n",
    "\n",
    "\n"
   ]
  },
  {
   "cell_type": "markdown",
   "id": "77c085e6-dcc1-44e8-b220-7031dbfb97ae",
   "metadata": {},
   "source": [
    "# Package\n",
    "All the packages used here are defined below."
   ]
  },
  {
   "cell_type": "code",
   "execution_count": 5,
   "id": "ece65900-b057-40c4-b444-f129881f7c3f",
   "metadata": {},
   "outputs": [],
   "source": [
    "# System interphase\n",
    "import os\n",
    "# Images management\n",
    "import cv2\n",
    "# Matrice management\n",
    "import numpy as np\n",
    "# Graphic\n",
    "import matplotlib.pyplot as plt\n",
    "from matplotlib_scalebar.scalebar import ScaleBar \n",
    "# To import (homemade) jupyter Notebooks\n",
    "import import_ipynb\n",
    "\n",
    "## Homemade notebooks\n",
    "import general_functions as functions\n",
    "import radiometric_calibration\n",
    "import Spatial_calibration"
   ]
  },
  {
   "cell_type": "markdown",
   "id": "c253d34b-cf23-4555-8360-8d75e05e3356",
   "metadata": {},
   "source": [
    "# Obtain a raw image"
   ]
  },
  {
   "cell_type": "markdown",
   "id": "073aa9ca-cfa1-4c91-93b1-d770176c62c6",
   "metadata": {},
   "source": [
    "## Repertory path\n",
    "Here, the repertory where the images are stored, is defined."
   ]
  },
  {
   "cell_type": "code",
   "execution_count": 6,
   "id": "985c0ad0-fce1-465f-a8fb-0ed6fe946134",
   "metadata": {},
   "outputs": [],
   "source": [
    "parent_path = os.path.join(functions.FOLDER_PATH, \"flux_map\")"
   ]
  },
  {
   "cell_type": "markdown",
   "id": "e6fd7c9e-402f-4113-8b63-b040a1657910",
   "metadata": {},
   "source": [
    "## Parameters of the camera\n",
    "`PETALE2` software has been developed at the PROMES laboratory to acquire a number of images from the camera at maximum speed, with the date and time of each image. For each series of images, the `PETALE2` software creates a log file in which the camera parameters used are stored, along with the date and time of each image. "
   ]
  },
  {
   "cell_type": "code",
   "execution_count": 7,
   "id": "0e873fce-324d-40c8-92f9-457f17b0fdf6",
   "metadata": {},
   "outputs": [
    {
     "name": "stdout",
     "output_type": "stream",
     "text": [
      "{'Date': '2022-05-13', 'Time': '11-55-42', 'ExposureValue': 7000.0, 'GainValue': 0.0, 'Gamma': 1.0, 'WhitebalValueRed': 120.0, 'WhitebalValueBlue': 224.0, 'OffsetValue': 0.0, 'TimeStampFrequency': 48000000.0, 'CameraName': 'SISIA 4 - V2', 'DeviceModelName': 'Manta_G-125C', 'DeviceSerialNumber': '50-0503328886'}\n"
     ]
    }
   ],
   "source": [
    "# Get the name of the log file\n",
    "log_name = [log for log in os.listdir(parent_path) if log.endswith(\".txt\")][0]\n",
    "# Get the log path\n",
    "log_path = os.path.join(parent_path, log_name)\n",
    "parameters = functions.get_img_parameters(log_path)\n",
    "print(parameters)"
   ]
  },
  {
   "cell_type": "markdown",
   "id": "b0aacfbc-435e-45eb-ac82-cb9888ad99e9",
   "metadata": {},
   "source": [
    "## Read the initial images\n",
    "For each cartography, 100 images are taken by the camera, to limit digital noise."
   ]
  },
  {
   "cell_type": "code",
   "execution_count": 8,
   "id": "349508c7-c61b-4624-8746-f387c8385f51",
   "metadata": {},
   "outputs": [],
   "source": [
    "img_names = [name for name in os.listdir(parent_path)\n",
    "             if name.endswith(\".tiff\")]\n",
    "imgs = np.empty((len(img_names), 964, 1292), np.float64)\n",
    "for idx, img_name in enumerate(img_names):\n",
    "    img_path = os.path.join(parent_path, img_name)\n",
    "    # Read image\n",
    "    img = cv2.imread(img_path, -1)\n",
    "    # Split images in RGB channels\n",
    "    img = cv2.split(img)\n",
    "    # Keep the red channel\n",
    "    img = img[0]\n",
    "    # Store images\n",
    "    imgs[idx, :, :] = img"
   ]
  },
  {
   "cell_type": "markdown",
   "id": "14686eca-31a6-4ec6-9be1-b892014da480",
   "metadata": {},
   "source": [
    "## DNI normalization\n",
    "In order to be able to compare different flux distribution maps, they must be normalized according to Direct Normal Irradiation (DNI). Historically, a value of 1000 W/m² has been used, corresponding to 1 sun."
   ]
  },
  {
   "cell_type": "code",
   "execution_count": 9,
   "id": "a43a3505-35f4-486d-b047-af833a67811a",
   "metadata": {},
   "outputs": [],
   "source": [
    "for idx, img_name in enumerate(img_names):\n",
    "    ## Acquisition time\n",
    "    img_time = [img_name[29:31],  # hour\n",
    "                img_name[31:33],  # minute\n",
    "                img_name[33:39]]  # second\n",
    "    # DNI at the instant of the image\n",
    "    img_DNI = functions.get_DNI(parameters[\"Date\"], img_time)\n",
    "    img  = imgs[idx, :, :]\n",
    "    img = img * functions.NORM_DNI / img_DNI\n",
    "    imgs[idx, :, :] = img"
   ]
  },
  {
   "cell_type": "markdown",
   "id": "7be00abd-2c10-42c8-a61e-1897645db412",
   "metadata": {},
   "source": [
    "# Build the raw image\n",
    "From the 100 images taken, one image is built."
   ]
  },
  {
   "cell_type": "markdown",
   "id": "43e06128-7c5d-41a0-937c-45ea416d2de5",
   "metadata": {
    "tags": []
   },
   "source": [
    "## Mean method\n",
    "For each pixel, its value is obtained by averaging the values of the corresponding pixels in the initial image set"
   ]
  },
  {
   "cell_type": "code",
   "execution_count": 10,
   "id": "a48b5c6d-5354-4296-97be-78facd20d905",
   "metadata": {},
   "outputs": [],
   "source": [
    "img_mean = np.mean(imgs, axis=0)"
   ]
  },
  {
   "cell_type": "markdown",
   "id": "06a92f17-f592-41e8-a472-d4c976b6ccf7",
   "metadata": {},
   "source": [
    "## Median method\n",
    "For each pixel, its value is obtained by the median of the values of the corresponding pixels in the initial image set"
   ]
  },
  {
   "cell_type": "code",
   "execution_count": 11,
   "id": "c6db1770-012e-4e05-878d-87d55558e30a",
   "metadata": {
    "tags": []
   },
   "outputs": [],
   "source": [
    "img_med = np.median(imgs, axis=0)"
   ]
  },
  {
   "cell_type": "markdown",
   "id": "23b07575-21cf-49ff-b0ac-79301a8513f1",
   "metadata": {
    "tags": []
   },
   "source": [
    "## Median of Means method\n",
    "This method consists in calculating the median of pixel values from a set of images, then taking the average of pixel values in a neighborhood of the median, can be used to create a composite image that combines the advantages of the median and the average."
   ]
  },
  {
   "cell_type": "code",
   "execution_count": 12,
   "id": "a9329448-9740-4c67-a0a2-4153f55d8a8b",
   "metadata": {},
   "outputs": [],
   "source": [
    "nb_img = len(imgs)\n",
    "nb_pix = 10\n",
    "orded_imgs = np.sort(imgs, axis=0,\n",
    "                 kind=\"quicksort\", order=None)\n",
    "orded_imgs = orded_imgs[(nb_img-nb_pix)//2:\n",
    "                    (nb_img+nb_pix)//2, :, :]\n",
    "img_med_mean = np.mean(orded_imgs, axis=0)\n",
    "\n",
    "raw_img = img_med_mean"
   ]
  },
  {
   "cell_type": "markdown",
   "id": "074814a8-63da-458d-a04d-66d5ad61531c",
   "metadata": {},
   "source": [
    "## Display "
   ]
  },
  {
   "cell_type": "code",
   "execution_count": 13,
   "id": "733c7b02-bee3-49fd-8f66-94643c58afe0",
   "metadata": {},
   "outputs": [
    {
     "data": {
      "image/png": "[encoded data removed]",
      "text/plain": [
       "<Figure size 700x500 with 2 Axes>"
      ]
     },
     "metadata": {},
     "output_type": "display_data"
    }
   ],
   "source": [
    "fig = plt.figure(figsize=(7,5))\n",
    "ax = plt.gca()\n",
    "plt.title(\"Raw image of fluxmetry map distribution\")\n",
    "plt.imshow(raw_img/1e3)\n",
    "plt.axis(\"off\")\n",
    "plt.colorbar()\n",
    "plt.show()"
   ]
  },
  {
   "cell_type": "markdown",
   "id": "5f655880-1ad1-4a57-9779-7acd6b46bfc5",
   "metadata": {},
   "source": [
    "# Image calibrations\n",
    "The raw image previously obtained does not contain any quantitative information, as the image is neither radiometric nor spatially calibrated. Then these two calibrations are required."
   ]
  },
  {
   "cell_type": "markdown",
   "id": "45bc2692-37bc-4a87-9c20-f21cb4166f56",
   "metadata": {},
   "source": [
    "## Spatial calibration\n",
    "The spatial calibration requires to obtain the size of one pixel. Possibly resize the image so that the pixel size is a round count."
   ]
  },
  {
   "cell_type": "code",
   "execution_count": 14,
   "id": "2e366a40-a595-42b7-b3d4-c58c2a19c4c4",
   "metadata": {},
   "outputs": [
    {
     "name": "stdout",
     "output_type": "stream",
     "text": [
      "5.920368434868592e-05\n"
     ]
    }
   ],
   "source": [
    "# Pixel size before spatial calibration\n",
    "init_pix_size = Spatial_calibration.pix_size\n",
    "print(init_pix_size)\n",
    "# Pixel size after spatial calibration\n",
    "new_pix_size = 5e-5\n",
    "# Pixel ration between before and after spatial calibration\n",
    "size_ratio = new_pix_size/init_pix_size\n",
    "# Intial size of the image\n",
    "nb_pixel_y, nb_pixel_x = raw_img.shape\n",
    "# Image resizing for each pixel size correspond to new_pixel size\n",
    "resized_img = cv2.resize(raw_img, \n",
    "                          dsize = (int(nb_pixel_x*size_ratio), int(nb_pixel_y*size_ratio)),\n",
    "                          interpolation=cv2.INTER_CUBIC)\n",
    "\n",
    "# New size of the image\n",
    "nb_pixel_Y, nb_pixel_X = resized_img.shape\n",
    "\n",
    "# The image is resize in order to keep the initial image size\n",
    "# If the resized image has been shrunk\n",
    "if nb_pixel_x > nb_pixel_X: \n",
    "    # Add pixel egal to 0 on the size\n",
    "    new_img = np.zeros((964, 1292), np.float64)\n",
    "    new_img[int((nb_pixel_y-nb_pixel_Y)/2):int((nb_pixel_y-nb_pixel_Y)/2)+nb_pixel_Y,\n",
    "                int((nb_pixel_x-nb_pixel_X)/2):int((nb_pixel_x-nb_pixel_X)/2)+nb_pixel_X] = resized_img\n",
    "# If the resized image has been enlarged\n",
    "elif nb_pixel_x < nb_pixel_X:\n",
    "    # the image is cropped at the edges\n",
    "    new_img = resized_img[int((nb_pixel_Y-nb_pixel_y)/2):int((nb_pixel_Y-nb_pixel_y)/2)+nb_pixel_y,\n",
    "                int((nb_pixel_X-nb_pixel_x)/2):int((nb_pixel_X-nb_pixel_x)/2)+nb_pixel_x]\n",
    "\n",
    "img_spatial_calib = new_img"
   ]
  },
  {
   "cell_type": "markdown",
   "id": "2076ac27-8e8a-4a58-b523-71fd9bde8b82",
   "metadata": {},
   "source": [
    "## Display"
   ]
  },
  {
   "cell_type": "code",
   "execution_count": 15,
   "id": "07405b4a-15d4-4e9d-a885-e1a5fc34761a",
   "metadata": {},
   "outputs": [
    {
     "data": {
      "image/png": "[encoded data removed]",
      "text/plain": [
       "<Figure size 700x700 with 1 Axes>"
      ]
     },
     "metadata": {},
     "output_type": "display_data"
    }
   ],
   "source": [
    "fig = plt.figure(figsize=(7,7))\n",
    "ax = plt.gca()\n",
    "plt.imshow(img_spatial_calib)\n",
    "plt.axis(\"off\")\n",
    "plt.title(\"Spatially calibrated flux map\")\n",
    "# plt.colorbar(label=\"Grey levels\", shrink=0.5)\n",
    "scalebar = ScaleBar(new_pix_size, \"m\",\n",
    "                    length_fraction=0.25,\n",
    "                    location=\"upper left\",\n",
    "                    pad=1)\n",
    "ax.add_artist(scalebar)\n",
    "\n",
    "plt.show()"
   ]
  },
  {
   "cell_type": "markdown",
   "id": "92503696-8de6-455b-a16a-6603911edba2",
   "metadata": {},
   "source": [
    "## Radiometric calibration\n",
    "The radiometric calibration consists in converting the value of all the pixels from grey levels to power density. The correspond between grey levels to power density is calculated in the `radiometric_calibration` file"
   ]
  },
  {
   "cell_type": "code",
   "execution_count": 19,
   "id": "e45e7b94-7985-48fb-9d20-f242e0956ecf",
   "metadata": {},
   "outputs": [],
   "source": [
    "GL2density_factor = radiometric_calibration.GL2density_factor\n",
    "flux_map = img_spatial_calib * GL2density_factor"
   ]
  },
  {
   "cell_type": "markdown",
   "id": "adb36075-8ab7-4b5b-9833-8ca0d2d8e39b",
   "metadata": {},
   "source": [
    "## Display"
   ]
  },
  {
   "cell_type": "code",
   "execution_count": 20,
   "id": "4714902e-94d7-4ed5-969e-339249ff18af",
   "metadata": {},
   "outputs": [
    {
     "data": {
      "image/png": "[encoded data removed]",
      "text/plain": [
       "<Figure size 1000x1000 with 2 Axes>"
      ]
     },
     "metadata": {},
     "output_type": "display_data"
    }
   ],
   "source": [
    "fig = plt.figure(figsize=(10,10))\n",
    "ax = plt.gca()\n",
    "plt.imshow(flux_map/1e3)\n",
    "plt.axis(\"off\")\n",
    "plt.title(\"Radiometric and spatially calibrated flux map\")\n",
    "plt.colorbar(label=\"Power density (kW/m²)\", shrink=0.5)\n",
    "scalebar = ScaleBar(new_pix_size, \"m\",\n",
    "                    length_fraction=0.25,\n",
    "                    location=\"upper left\",\n",
    "                    pad=1)\n",
    "ax.add_artist(scalebar)\n",
    "plt.show()"
   ]
  },
  {
   "cell_type": "markdown",
   "id": "49fe149c-e50c-44c3-aa8f-36d09562b137",
   "metadata": {},
   "source": [
    "# How to represent this flux distribution map ?"
   ]
  },
  {
   "cell_type": "markdown",
   "id": "685acfb6-03d5-44d1-bd83-d353dace9c9d",
   "metadata": {},
   "source": [
    "With Flux map with contours\n",
    "\n",
    "![flux_map](https://user-images.githubusercontent.com/102672251/273209049-fe40b625-edde-421d-95f6-48501ba6dce9.png)"
   ]
  },
  {
   "cell_type": "markdown",
   "id": "34646594-a8bf-472e-8650-7dd543dc8559",
   "metadata": {},
   "source": [
    "Evolution of the maximal intensity with elevation\n",
    "\n",
    "![intensity_vs_elevation](https://user-images.githubusercontent.com/102672251/273208905-0780494b-d17d-4308-aa64-f1321debcde1.png)\n"
   ]
  },
  {
   "cell_type": "markdown",
   "id": "a1296a9f-1a85-4ed9-b771-1a5073ea4a36",
   "metadata": {},
   "source": [
    "The evolution of the barycenter with elevation \n",
    "\n",
    "![barycenter](https://user-images.githubusercontent.com/102672251/273209441-233f2591-a429-4b61-ba2f-7b07c92f4646.png)"
   ]
  },
  {
   "cell_type": "markdown",
   "id": "8b47c178-80e7-4041-90ea-8297e5952e34",
   "metadata": {},
   "source": [
    "Represents the focal spot depending on the elevation \n",
    "\n",
    "![focal_vs_elevation](https://user-images.githubusercontent.com/102672251/273208997-36d6ca1c-e005-467b-86d0-779bf76c7e68.png)"
   ]
  },
  {
   "cell_type": "markdown",
   "id": "43a10415-9952-4cd5-818b-4f838564d31a",
   "metadata": {},
   "source": [
    "It is also possible to determine the angle of the parabola axis.\n",
    "\n",
    "![angles_axes](https://user-images.githubusercontent.com/102672251/273209498-5dacd147-6d72-4412-a190-17e399657c63.png)"
   ]
  },
  {
   "cell_type": "code",
   "execution_count": null,
   "id": "0eaa0e16-7fdb-4e47-8a70-c34eb3419347",
   "metadata": {
    "tags": []
   },
   "outputs": [],
   "source": [
    "\n",
    "clabel_color = \"whitesmoke\"\n",
    "\n",
    "flux_map = flux_map / 10**3\n",
    "CM = 1/2.54  # (CM) centimeters in inches\n",
    "FIGSIZE = (11.6*CM, 14.8*CM)\n",
    "fig_trace_complet = plt.figure(figsize=(16*CM, 16*CM), dpi=110)\n",
    "histo_moy_x = np.mean(flux_map, axis=0)\n",
    "histo_moy_y = np.mean(flux_map, axis=1)\n",
    "\n",
    "histo_max_x = np.max(flux_map, axis=0)\n",
    "histo_max_y = np.max(flux_map, axis=1)\n",
    "\n",
    "histo_moy_x_max = histo_moy_x.max()\n",
    "histo_moy_y_max = histo_moy_y.max()\n",
    "\n",
    "histo_max_x_max = histo_max_x.max()\n",
    "histo_max_y_max = histo_max_y.max()\n",
    "\n",
    "histo_x = np.zeros((1, \n",
    "                    flux_map.shape[0]), \n",
    "                   np.float64)  # Moyenne selon l'axe X\n",
    "histo_y = np.zeros((1,\n",
    "                    flux_map.shape[1]), \n",
    "                   np.float64)  # Moyenne selon l'axe Y\n",
    "\n",
    "\n",
    "    # no labels\n",
    "nullfmt = plt.NullFormatter()\n",
    "size_y, size_x = flux_map.shape\n",
    "# definitions for the axes\n",
    "left, width = 0.1, 0.5\n",
    "bottom, height = 0.1, width * size_y/size_x\n",
    "\n",
    "rect_scatter = [left, bottom, width, height]\n",
    "rect_histx = [left, bottom + height + 0.02, width, 0.21]\n",
    "rect_histy = [left + width + 0.02, bottom, 0.21, height]\n",
    "rect_cbar =  [left+width+0.25, bottom, 0.01, height]\n",
    "\n",
    "# start with a rectangular Figure\n",
    "# plt.figure(1, figsize=(8,8))\n",
    "\n",
    "axHistxy = plt.axes(rect_scatter)\n",
    "xlist = np.linspace(0, flux_map.shape[1], flux_map.shape[1])\n",
    "ylist = np.linspace(0, flux_map.shape[0], flux_map.shape[0])\n",
    "X, Y = np.meshgrid(xlist, ylist)\n",
    "\n",
    "(mini, maxi, minLoc, maxLoc) = cv2.minMaxLoc(flux_map)\n",
    "levels_nb = 5\n",
    "magn_order = int(math.log10(maxi))-1\n",
    "level_first = int(maxi/(levels_nb*10**magn_order)) *10**magn_order\n",
    "level_step = level_first\n",
    "level_max = int(maxi/10**magn_order)*10**magn_order\n",
    "levels = range(level_first,\n",
    "               level_max,\n",
    "               level_step)\n",
    "flux_map_simply = flux_map.copy()\n",
    "kernel = np.ones((5,5),np.uint8)\n",
    "flux_map_simply = cv2.morphologyEx(flux_map_simply, cv2.MORPH_OPEN, kernel)\n",
    "flux_map_simply = cv2.morphologyEx(flux_map_simply, cv2.MORPH_CLOSE, kernel)\n",
    "cp = plt.contour(flux_map_simply, cmap=\"afmhot\", linestyles='dashed', levels=levels, linewidths=1)\n",
    "plt.clabel(cp, inline=True, fontsize=10,  inline_spacing=5, use_clabeltext=True)\n",
    "\n",
    "axHistx = plt.axes(rect_histx)\n",
    "axHisty = plt.axes(rect_histy)\n",
    "axCbar = plt.axes(rect_cbar)\n",
    "\n",
    "#     # no labels\n",
    "axHistx.xaxis.set_major_formatter(nullfmt)\n",
    "axHisty.yaxis.set_major_formatter(nullfmt)\n",
    "axHistxy.set_xlabel(\"Axis x (pixel)\")\n",
    "axHistxy.set_ylabel(\"Axis y (pixel)\")\n",
    "\n",
    "#     # cartographie\n",
    "carto = axHistxy.imshow(flux_map, cmap= 'afmhot_r', vmin = 0)  # image cartographie\n",
    "axHistxy.hlines(maxLoc[1], 0, 1291, linestyles='dashed', colors='#000000', linewidth = 1.2)  # trait horizontal sur le centre\n",
    "axHistxy.vlines(maxLoc[0], 0, 963, linestyles='dashed', colors='#000000', linewidth = 1.2)  # trait vertical sur le centre\n",
    "plt.colorbar(carto, cax=axCbar, label=\"Suns\")\n",
    "# compas = Fluxmetrie_fonctions.get_compas_img()\n",
    "# axHistxy.add_artist(compas)\n",
    "scalebar_ = ScaleBar(new_pix_size, \"cm\",\n",
    "                    length_fraction=0.1,\n",
    "                              border_pad=0.15,\n",
    "                    location=\"upper left\",\n",
    "                    pad=1)\n",
    "axHistxy.add_artist(scalebar_)\n",
    "\n",
    "# plot x hist\n",
    "histo_x = np.mean(flux_map, axis=1)\n",
    "axHistx.grid(visible=True, which='major', color='#AAAAAA', linestyle = 'dashdot')\n",
    "axHistx.plot(histo_moy_x, '-', color ='darkorange', label=\"moyenne\")\n",
    "axHistx.plot(histo_max_x, '-', color ='saddlebrown', label=\"maximum\")\n",
    "axHistx.set_ylabel(\"Suns\")\n",
    "axHistx.vlines(maxLoc[0], 0, (histo_max_x).max(),\n",
    "               linestyles='dashed', colors='#000000',\n",
    "               linewidth = 1.2)  # trait vertical sur le centre\n",
    "# plot y hist\n",
    "histo_y = np.mean(flux_map, axis=0)\n",
    "axHisty.grid(visible=True, which='major', color='#AAAAAA', linestyle = 'dashdot')   \n",
    "axHisty.plot(histo_moy_y, np.linspace(0, 964, 964), color='darkorange', label=\"moyenne\")\n",
    "axHisty.plot(histo_max_y, np.linspace(0, 964, 964), color='saddlebrown', label=\"maximum\")\n",
    "axHisty.set_xlabel(\"Suns\")\n",
    "axHisty.hlines(maxLoc[1], 0, (histo_max_y).max(), linestyles='dashed', color ='#000000', linewidth = 1.2)  # trait horizontal sur le centre\n",
    "\n",
    "axHistxy.grid(visible=True, which='major', color='#AAAAAA', linestyle = 'dashdot')\n",
    "\n",
    "# Set Limits pour les histo\n",
    "axHistx.set_xlim(axHistxy.get_xlim())\n",
    "axHisty.set_ylim(axHistxy.get_ylim())\n",
    "axHistx.set_ylim(ymin=0)\n",
    "axHisty.set_xlim(xmin=0) \n",
    "\n",
    "axHistx.legend()\n",
    "axHisty.legend()\n",
    "\n",
    "# cs = plt.contourf(h, levels=[10, 30, 50],\n",
    "#     colors=['#808080', '#A0A0A0', '#C0C0C0'], extend='both')\n",
    "\n",
    "\n",
    "figname = f\"Carto_{open_shutter}%.tiff\"\n",
    "plt.savefig(figname, dpi=300)\n",
    "plt.show()"
   ]
  }
 ],
 "metadata": {
  "kernelspec": {
   "display_name": "Python 3 (ipykernel)",
   "language": "python",
   "name": "python3"
  },
  "language_info": {
   "codemirror_mode": {
    "name": "ipython",
    "version": 3
   },
   "file_extension": ".py",
   "mimetype": "text/x-python",
   "name": "python",
   "nbconvert_exporter": "python",
   "pygments_lexer": "ipython3",
   "version": "3.9.13"
  }
 },
 "nbformat": 4,
 "nbformat_minor": 5
}
