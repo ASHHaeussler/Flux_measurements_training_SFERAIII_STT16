{
 "cells": [
  {
   "cell_type": "markdown",
   "id": "3b55beaa",
   "metadata": {},
   "source": [
    "# Flux measurements training SFERA-III STT16\n",
    "![](Figure\\\\sfera3.png)\n",
    "![](Figure\\\\promes_haute_resolution.jpg)\n",
    "![](Figure\\\\cnrs.png)"
   ]
  },
  {
   "cell_type": "markdown",
   "id": "6b49d801-a8f0-4d8a-ae1c-08b61a503685",
   "metadata": {},
   "source": [
    "# General function module\n",
    "In this module the different functions use to obtain fluxmetry cartographie are defined."
   ]
  },
  {
   "cell_type": "markdown",
   "id": "7cf064a9-ec3f-4475-a611-7017ec5deeba",
   "metadata": {},
   "source": [
    "## Modules\n",
    "Here the modules use in the functions defined below are imported."
   ]
  },
  {
   "cell_type": "code",
   "execution_count": 1,
   "id": "a01e9837-cf7e-4e2b-afe5-d44673a2aa1b",
   "metadata": {},
   "outputs": [],
   "source": [
    "# System interphase\n",
    "import os\n",
    "# Interface system with user\n",
    "import tkinter\n",
    "# Date and time management\n",
    "import datetime\n",
    "import pytz\n",
    "# Graphic\n",
    "import matplotlib.pyplot as plt\n",
    "\n",
    "# Matrice management\n",
    "import numpy as np\n",
    "# URL handling\n",
    "import urllib"
   ]
  },
  {
   "cell_type": "markdown",
   "id": "efee0b72-9d35-4f3e-be0a-5b24e7b04273",
   "metadata": {},
   "source": [
    "## Constances"
   ]
  },
  {
   "cell_type": "code",
   "execution_count": null,
   "id": "7b5bd7fa-d661-479d-8ad0-cdf5f5855d47",
   "metadata": {},
   "outputs": [],
   "source": [
    "# Value of the DNI use to normalize the different physical values\n",
    "NORM_DNI = 1000 # (W/m²)\n",
    "# Isobaric mass heat capacity at 25 °C\n",
    "# ref : https://en.wikipedia.org/wiki/Table_of_specific_heat_capacities\n",
    "Cp_H2O = 4185 * 10**-3  # (J/g/K)\n",
    "\n",
    "# Surface of the calorimeter diaphragme\n",
    "DIAPH_SURF = (10e-3/2)**2 * np.pi #(m²)"
   ]
  },
  {
   "cell_type": "markdown",
   "id": "9b480bef-da97-477e-aa3a-1e3ecc029e30",
   "metadata": {},
   "source": [
    "## Fluxmetry map\n",
    "In this section, the functions use in the `ex_flux_map` file are defined."
   ]
  },
  {
   "cell_type": "markdown",
   "id": "addc9ff5-f48e-4325-a0f5-5850a075a41e",
   "metadata": {},
   "source": [
    "### Function `get_img_parameters`\n",
    "This function reads the log file obtain with the PETALES2 sowftware and return the relevant parameters"
   ]
  },
  {
   "cell_type": "code",
   "execution_count": 4,
   "id": "3e203593-f0d7-476b-98b6-06e6b1aa75e3",
   "metadata": {},
   "outputs": [],
   "source": [
    "def get_img_parameters(log_path) :\n",
    "    \"\"\"\n",
    "    Get the relevant parameters in the log file\n",
    "    \"\"\"\n",
    "    #### Date and time ####\n",
    "    log_name = os.path.basename(log_path)\n",
    "    date, time = get_log_time(log_name)\n",
    "    \n",
    "    ### Intitialization ###\n",
    "    # List of interst parameters\n",
    "    parameter_names =[\"ExposureValue\", \n",
    "                      \"Gamma\",\n",
    "                      \"WhitebalValueRed\",\n",
    "                      \"WhitebalValueBlue\",\n",
    "                      \"GainValue\",\n",
    "                      \"OffsetValue\",\n",
    "                      \"TimeStampFrequency\",\n",
    "                      \"CameraName\",\n",
    "                      \"DeviceSerialNumber\",\n",
    "                      \"DeviceModelName\"]\n",
    "    # Create a dictionary for storing parameters\n",
    "    parameters = {\"Date\": date,\n",
    "                  \"Time\": time}\n",
    "    \n",
    "    #### Log file management #### \n",
    "    log_file = open(log_path, \"r\")\n",
    "    content = log_file.readlines() \n",
    "    # Browse the lines in the log file\n",
    "    for ligne in content:  \n",
    "        # Is the line corresponds to a parameter to be saved ?\n",
    "        if is_param_in_line(ligne, parameter_names) :  \n",
    "            # then a new instance is created in the dictionary\n",
    "            value = get_value(ligne) \n",
    "            # the value is saved\n",
    "            parameters[ligne[7:ligne.find(\"=\")]] = value\n",
    "    ## Display a warning window when values do not match default values        \n",
    "    check_parameters(parameters)\n",
    "    return parameters\n",
    "\n",
    "\n",
    "def is_param_in_line(ligne, parameter_names):\n",
    "    \"\"\"\n",
    "    Is the line corresponds to a parameter to be saved ? \n",
    "    \"\"\"\n",
    "    test =[]\n",
    "    for parametre in parameter_names :\n",
    "        test.append(ligne[7:7+len(parametre)] ==  parametre)\n",
    "    return any(test)\n",
    "\n",
    "\n",
    "def get_value(ligne) :\n",
    "    \"\"\"\n",
    "    Get the parameter value in the line \n",
    "    \"\"\"\n",
    "    value = ligne[ligne.find('=')+1:]\n",
    "    try :\n",
    "        # Convert in float\n",
    "        value = float(value)  \n",
    "    except :\n",
    "        value = value[:-1]\n",
    "    return value\n",
    "\n",
    "\n",
    "def check_parameters(parameters):\n",
    "    \"\"\"\n",
    "    Checks that the acquisition parameters used are the good ones. \n",
    "    If not, raise a warnig window.\n",
    "    \"\"\"\n",
    "    good_parameter = {\"WhitebalValueRed\" : 120, \"WhitebalValueBlue\":224, \"GainValue\":0, \"OffsetValue\":0, \"Gamma\":1 }\n",
    "    test = [parameters[parameter] != good_parameter[parameter] for parameter in good_parameter]\n",
    "    if any(test) :\n",
    "         display_warning_win(parameters, good_parameter)  # Affichage d'un fenetre d'avertissement si les paramètres d'acquisition ne correspondent pas à ceux attendus\n",
    "\n",
    "def display_warning_win(used_parameters, good_parameter):\n",
    "    \"\"\"\n",
    "    Display a warning windoyw with the wrong parameter highlighted\n",
    "    \"\"\"\n",
    "    # Create a window\n",
    "    win= tkinter.Tk()\n",
    "    # Define the siza\n",
    "    win.geometry(\"600x200\")\n",
    "    # place the window in front of any of the user's other windows\n",
    "    win.attributes('-topmost', 1)\n",
    "    # Creates a frame for buttons\n",
    "    frame_value = tkinter.Frame(win)\n",
    "    # Set the frame in the bottom of the window\n",
    "    frame_value.pack(side = tkinter.BOTTOM)\n",
    "    # Create a label\n",
    "    text=u\"Warning at least one of the parameter values does not correspond to the correct value\"\n",
    "    label = tkinter.Label(win, text=text, font=('Arial 12 bold'))\n",
    "    # Display label\n",
    "    label.pack(side = tkinter.TOP)\n",
    "    \n",
    "    # For each parameter, display the value used and the good value\n",
    "    for parametre in good_parameter.keys() :\n",
    "        used_value = used_parameters[parametre]\n",
    "        good_value = good_parameter[parametre]\n",
    "        text = parametre + \"=\" + str(used_value) + \", valeur attendue = \" + str(good_value)\n",
    "        police = set_font(used_value, good_value)\n",
    "        # Create a label\n",
    "        label = tkinter.Label(frame_value, text=text, font=(police), compound=\"left\") # Crée une étiquette\n",
    "         # Display label\n",
    "        label.pack()\n",
    "    # Display window\n",
    "    win.mainloop()\n",
    "\n",
    "    \n",
    "def set_font(used_value, good_value) :\n",
    "    \"\"\"\n",
    "    Set the font to use\n",
    "    If the used value is not the good value, then the font is bold\n",
    "    \"\"\"\n",
    "    if used_value == good_value :\n",
    "        police = 'Arial 11'\n",
    "    else :\n",
    "        police = 'Arial 11 bold'\n",
    "    return police\n",
    "\n",
    "def get_log_time(log_name) :\n",
    "    date = '20' + log_name[11:19]\n",
    "    time = log_name[20:22] + '-' + log_name[22:24] + '-' + log_name[24:26]\n",
    "    return date, time\n"
   ]
  },
  {
   "cell_type": "markdown",
   "id": "2ae5ccfb-e8c4-4975-b76e-7f94a1d8bb50",
   "metadata": {},
   "source": [
    "### Function `get_DNI`\n",
    "This function return the Direct Normal Irriadiation value (W/m²) at the instant entered in argument"
   ]
  },
  {
   "cell_type": "code",
   "execution_count": 5,
   "id": "f63204e0-1403-41e1-be24-65d79fc9e548",
   "metadata": {},
   "outputs": [],
   "source": [
    "def get_DNI(date, time) :\n",
    "    \"\"\"\n",
    "    This function return the Direct Normal Irriadiation value (W/m²) at the instant entered in argument\n",
    "    Input : \n",
    "        date as \"YYYY-MM-DD\"\n",
    "        time as [HH, MM, SS]\n",
    "    Output : \n",
    "        DNI value (float)\n",
    "    \"\"\"\n",
    "    summer_time = is_summer_time(date)\n",
    "    hour = str(float(time[0]) - 1 - 1 * summer_time)\n",
    "    minute = str(time[1])\n",
    "    second = str(time[2])\n",
    "    time = hour + \":\" + minute + \":\" + second\n",
    "    url = \"http://193.50.5.248/donneesMeteo/getData.php?quand=\" \\\n",
    "           + time + \"&jour=\" + date + \"&qui=3\"\n",
    "    response = urllib.request.urlopen(url)\n",
    "    html = response.read()\n",
    "    DNI = float(html)\n",
    "    return DNI"
   ]
  },
  {
   "cell_type": "markdown",
   "id": "26c2eed9-ade7-49ec-9d24-a5c08a721a9a",
   "metadata": {},
   "source": [
    "### Function `is_summer_time`\n",
    "This function return if a date corresponds to summertime "
   ]
  },
  {
   "cell_type": "code",
   "execution_count": 6,
   "id": "3a6e7114-3037-4ac5-ad86-bdf0a8661a59",
   "metadata": {},
   "outputs": [],
   "source": [
    "def is_summer_time(date):\n",
    "    \"\"\" \n",
    "    Test if a date corresponds to summer time\n",
    "    Input : date (YYYY-MM-DD)\n",
    "    Output : bool\n",
    "    \"\"\"\n",
    "    year = int(date[0:4])\n",
    "    month = int(date[5:7])\n",
    "    day = int(date[8::])\n",
    "    # Date to test\n",
    "    date_Paris = datetime.datetime(year, month, day, hour=12)\n",
    "    #  Set Paris timezone\n",
    "    pytz.timezone(\"Europe/Paris\").localize(date_Paris, is_dst=None)\n",
    "    #  Convert UTC\n",
    "    date_UTC = date_Paris.astimezone(pytz.utc)\n",
    "    #  (heure) Difference between UTC and Paris\n",
    "    diff_Paris_UTC = date_Paris.hour - date_UTC.hour\n",
    "    # (booléen) Test if date belongs to summer time,\n",
    "    # i.e in summer Paris time = UTC +2\n",
    "    test = diff_Paris_UTC == 2\n",
    "    return test"
   ]
  },
  {
   "cell_type": "markdown",
   "id": "251974c7-e107-4389-9d92-b675fc31d2c8",
   "metadata": {},
   "source": [
    "## Radiometric calibration\n",
    "In this section, the functions use in the radiometric calibration are defined."
   ]
  },
  {
   "cell_type": "markdown",
   "id": "b5d60da1-e29f-41d4-9af5-e59f0e4cac16",
   "metadata": {},
   "source": [
    "### Functions `read_value`\n",
    "These functions are used to read the txt file from the calorimeter."
   ]
  },
  {
   "cell_type": "code",
   "execution_count": 3,
   "id": "907344d4-5c21-40db-9af3-a6a5cf03931e",
   "metadata": {},
   "outputs": [],
   "source": [
    "def read_value(function):\n",
    "    def wrapper(line):\n",
    "        \"\"\"\n",
    "        This function return the interest element on a line\n",
    "        \"\"\"\n",
    "        col_num = {'heure': 0,\n",
    "           'DNI': 2,\n",
    "           'T1': 3,\n",
    "           'T2': 4,\n",
    "           'Q': 5}\n",
    "        col_idx = function(line, col_num)\n",
    "        caract_separation = [idx for idx in range(len(line))\n",
    "                             if line[idx] == \"\t\"]\n",
    "        caract_separation.insert(0, 0)\n",
    "        value = line[caract_separation[col_idx]:caract_separation[col_idx+1]]\n",
    "        return value\n",
    "    return wrapper\n",
    "\n",
    "@read_value\n",
    "def read_time(line, col_num):\n",
    "    col_idx = col_num[\"heure\"]\n",
    "    return col_idx\n",
    "\n",
    "@read_value\n",
    "def read_DNI(line, col_num):\n",
    "    col_idx = col_num[\"DNI\"]\n",
    "    return col_idx\n",
    "\n",
    "@read_value\n",
    "def read_T1(line, col_num):\n",
    "    col_idx = col_num[\"T1\"]\n",
    "    return col_idx\n",
    "\n",
    "@read_value\n",
    "def read_T2(line, col_num):\n",
    "    col_idx = col_num[\"T2\"]\n",
    "    return col_idx\n",
    "\n",
    "@read_value\n",
    "def read_flow(line, col_num):\n",
    "    col_idx = col_num[\"Q\"]\n",
    "    return col_idx"
   ]
  },
  {
   "cell_type": "markdown",
   "id": "227e881d-bc17-4346-b4af-694b5076ab36",
   "metadata": {},
   "source": [
    "## Spatial calibration\n",
    "In this section, the functions use in the `spatial_calibration` file are defined."
   ]
  },
  {
   "cell_type": "markdown",
   "id": "33ac05cd-575f-4ca4-ac71-e678766ef956",
   "metadata": {},
   "source": [
    "### Functions `order_along_x` and `order_along_y`:\n",
    "These functions order the circles along one axis."
   ]
  },
  {
   "cell_type": "code",
   "execution_count": null,
   "id": "bfc3f9a4-0d20-4bbf-a630-d3e9564f824e",
   "metadata": {},
   "outputs": [],
   "source": [
    "def order_along_y(circles):\n",
    "    \"\"\"\n",
    "    Order the circles along the y coordinate\n",
    "    # Input ordianary array\n",
    "    # Output ordianary array\n",
    "    \"\"\"\n",
    "    order = np.argsort(circles, axis=0, kind=\"quicksort\", order=None)[:, 0]\n",
    "    circles = circles[order, :]\n",
    "    return circles"
   ]
  },
  {
   "cell_type": "code",
   "execution_count": 9,
   "id": "e63d0f30-d3f5-4531-a362-eaaf280fe6bb",
   "metadata": {
    "tags": []
   },
   "outputs": [],
   "source": [
    "def order_along_x(circles):\n",
    "    \"\"\"\n",
    "    Order the circles along the x coordinate\n",
    "    # Input ordianary array\n",
    "    # Output ordianary array\n",
    "    \"\"\"\n",
    "    order = np.argsort(circles, axis=0, kind=\"quicksort\", order=None)[:, 1]\n",
    "    circles = circles[order, :]\n",
    "    return circles"
   ]
  },
  {
   "cell_type": "markdown",
   "id": "3243caaa-daeb-492c-a59b-5b4ad6833e18",
   "metadata": {},
   "source": [
    "### Function `calculate_distances_between_point_sets`\n",
    "Calculates distances between two sets of two-dimensional points.\n"
   ]
  },
  {
   "cell_type": "code",
   "execution_count": 2,
   "id": "817c4e21-934c-40c7-af35-507a5c97812e",
   "metadata": {},
   "outputs": [],
   "source": [
    "def calculate_distances_between_point_sets(points1, points2):\n",
    "    \"\"\"\n",
    "    Calculates distances between two sets of two-dimensional points.\n",
    "\n",
    "    Args:\n",
    "        point_set1 (array-like): The first set of points in [x, y] format.\n",
    "        point_set2 (array-like): The second set of points in [x, y] format.\n",
    "\n",
    "    Returns:\n",
    "        array-like: An array of the distances between each pair of points in the two sets.\n",
    "    \"\"\"\n",
    "    \n",
    "    x1, y1 = points1[:, :, 0], points1[:, :, 1]\n",
    "    x2, y2 = points2[:, :, 0], points2[:, :, 1]\n",
    "    distance = np.sqrt((x1-x2)**2 + (y1-y2)**2)\n",
    "    return distance"
   ]
  },
  {
   "cell_type": "code",
   "execution_count": null,
   "id": "3350a023-973e-4d19-af02-b4acb2918155",
   "metadata": {},
   "outputs": [],
   "source": []
  },
  {
   "cell_type": "code",
   "execution_count": 51,
   "id": "7f90a721-3640-4e6e-89a6-9ac482a6d093",
   "metadata": {
    "tags": []
   },
   "outputs": [],
   "source": [
    "def plot_mean_distortion(dist, orientation, pixel_nb):\n",
    "    if orientation==\"h\":\n",
    "        axis = 0\n",
    "        marker = r\"$\\leftrightarrow$\"\n",
    "        axis_title = \"Average of the horizontal deviation\"\n",
    "    elif orientation == \"v\":\n",
    "        axis = 1\n",
    "        marker =  r\"$\\updownarrow$\"\n",
    "        axis_title = \"Average of the vertical deviation\"\n",
    "    cm = plt.cm.get_cmap('RdYlBu')\n",
    "    mean_bary = np.mean(dist[1][axis], axis=axis)\n",
    "    mean_dist = np.mean(dist[0], axis=axis) - pixel_nb\n",
    "\n",
    "    if orientation==\"h\":\n",
    "        plt.scatter(mean_bary, mean_dist, c=mean_dist,\n",
    "                    vmin=-1, vmax=1, cmap=cm,\n",
    "                    marker=marker, s=100)\n",
    "        plt.ylabel(axis_title)\n",
    "\n",
    "    elif orientation == \"v\":\n",
    "        plt.scatter(mean_dist, mean_bary, c=mean_dist,\n",
    "                    vmin=-1, vmax=1, cmap=cm,\n",
    "                    marker=marker, s=100)\n",
    "        plt.xlabel(axis_title)"
   ]
  },
  {
   "cell_type": "code",
   "execution_count": null,
   "id": "690859be-62ec-468c-b6c0-de44fc1d0bff",
   "metadata": {},
   "outputs": [],
   "source": []
  },
  {
   "cell_type": "code",
   "execution_count": 24,
   "id": "91fbc0b1-c880-4a2e-bfbb-6749ed47d8bb",
   "metadata": {},
   "outputs": [],
   "source": [
    "def plot_oriented_distortion(distor, orientation, pixel_nb):\n",
    "    if orientation == \"h\": \n",
    "        distance = distor[0]\n",
    "        barycentre = distor[1]\n",
    "        marker = r\"$\\updownarrow$\"\n",
    "        label = \"Horizontal distance\"\n",
    "    elif orientation == \"v\":\n",
    "        distance = distor[0]\n",
    "        barycentre = distor[1]\n",
    "        marker = r\"$\\leftrightarrow$\"\n",
    "        label = \"Vertical distance\"\n",
    "    mean_dist = pixel_nb\n",
    "    cm = plt.cm.get_cmap('RdYlBu')\n",
    "    nb_x, nb_y = distance.shape\n",
    "    dist_deviation = distance - mean_dist\n",
    "    graph = plt.scatter(barycentre[0], barycentre[1], c=dist_deviation, cmap=cm,\n",
    "               marker=marker, s = 100,\n",
    "               label=label)\n",
    "    return graph"
   ]
  },
  {
   "cell_type": "markdown",
   "id": "2026f6c3-a5e0-4f3a-abb5-ba7148573f76",
   "metadata": {},
   "source": []
  },
  {
   "cell_type": "code",
   "execution_count": 18,
   "id": "5ccc7aba-e33f-4f78-8322-00c572ed0b72",
   "metadata": {},
   "outputs": [],
   "source": [
    "def get_barycentres(point1, point2):\n",
    "    x1, y1 = point1[:, :, 0], point1[:, :, 1]\n",
    "    x2, y2 = point2[:, :, 0], point2[:, :, 1]\n",
    "    x_bary = (x1+x2)/2\n",
    "    y_bary = (y1+y2)/2\n",
    "    return x_bary, y_bary"
   ]
  }
 ],
 "metadata": {
  "kernelspec": {
   "display_name": "Python 3 (ipykernel)",
   "language": "python",
   "name": "python3"
  },
  "language_info": {
   "codemirror_mode": {
    "name": "ipython",
    "version": 3
   },
   "file_extension": ".py",
   "mimetype": "text/x-python",
   "name": "python",
   "nbconvert_exporter": "python",
   "pygments_lexer": "ipython3",
   "version": "3.9.13"
  }
 },
 "nbformat": 4,
 "nbformat_minor": 5
}
